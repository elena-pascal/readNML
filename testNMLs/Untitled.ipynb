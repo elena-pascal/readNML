{
 "cells": [
  {
   "cell_type": "code",
   "execution_count": 1,
   "metadata": {},
   "outputs": [],
   "source": [
    "import f90nml\n",
    "import namelist"
   ]
  },
  {
   "cell_type": "code",
   "execution_count": 26,
   "metadata": {},
   "outputs": [],
   "source": [
    "    with open('EMEBSDDI.nml') as file:\n",
    "        nml_data = f90nml.read(file)"
   ]
  },
  {
   "cell_type": "code",
   "execution_count": 18,
   "metadata": {},
   "outputs": [
    {
     "ename": "TypeError",
     "evalue": "'module' object is not callable",
     "output_type": "error",
     "traceback": [
      "\u001b[0;31m---------------------------------------------------------------------------\u001b[0m",
      "\u001b[0;31mTypeError\u001b[0m                                 Traceback (most recent call last)",
      "\u001b[0;32m<ipython-input-18-05ca017cec81>\u001b[0m in \u001b[0;36m<module>\u001b[0;34m\u001b[0m\n\u001b[0;32m----> 1\u001b[0;31m \u001b[0mNML\u001b[0m \u001b[0;34m=\u001b[0m \u001b[0mnamelist\u001b[0m\u001b[0;34m(\u001b[0m\u001b[0;34m'EMMCOpenCL.nml'\u001b[0m\u001b[0;34m)\u001b[0m\u001b[0;34m\u001b[0m\u001b[0;34m\u001b[0m\u001b[0m\n\u001b[0m",
      "\u001b[0;31mTypeError\u001b[0m: 'module' object is not callable"
     ]
    }
   ],
   "source": [
    "NML = namelist('EMMCOpenCL.nml')"
   ]
  },
  {
   "cell_type": "code",
   "execution_count": 23,
   "metadata": {},
   "outputs": [
    {
     "data": {
      "text/plain": [
       "Namelist([('mccldata',\n",
       "           Namelist([('mode', 'full'),\n",
       "                     ('xtalname', 'Si.xtal'),\n",
       "                     ('numsx', 501),\n",
       "                     ('sig', 0.0),\n",
       "                     ('omega', 0.0),\n",
       "                     ('sigstart', 0.0),\n",
       "                     ('sigend', 30.0),\n",
       "                     ('sigstep', 2.0),\n",
       "                     ('ivolx', 1001),\n",
       "                     ('ivoly', 1001),\n",
       "                     ('ivolz', 101),\n",
       "                     ('ivolstepx', 1.0),\n",
       "                     ('ivolstepy', 1.0),\n",
       "                     ('ivolstepz', 1.0),\n",
       "                     ('num_el', 10),\n",
       "                     ('platid', 1),\n",
       "                     ('devid', 1),\n",
       "                     ('globalworkgrpsz', 150),\n",
       "                     ('totnum_el', 2000000000),\n",
       "                     ('multiplier', 1),\n",
       "                     ('ekev', 20.0),\n",
       "                     ('ehistmin', 15.0),\n",
       "                     ('ebinsize', 1.0),\n",
       "                     ('depthmax', 100.0),\n",
       "                     ('depthstep', 1.0),\n",
       "                     ('dataname', 'MCoutput.h5'),\n",
       "                     ('notify', 'Off')]))])"
      ]
     },
     "execution_count": 23,
     "metadata": {},
     "output_type": "execute_result"
    }
   ],
   "source": [
    "nml_data"
   ]
  },
  {
   "cell_type": "code",
   "execution_count": 19,
   "metadata": {},
   "outputs": [
    {
     "ename": "NameError",
     "evalue": "name 'Namelist' is not defined",
     "output_type": "error",
     "traceback": [
      "\u001b[0;31m---------------------------------------------------------------------------\u001b[0m",
      "\u001b[0;31mNameError\u001b[0m                                 Traceback (most recent call last)",
      "\u001b[0;32m<ipython-input-19-0c3b3af8ac43>\u001b[0m in \u001b[0;36m<module>\u001b[0;34m\u001b[0m\n\u001b[0;32m----> 1\u001b[0;31m \u001b[0mnml\u001b[0m \u001b[0;34m=\u001b[0m \u001b[0mNamelist\u001b[0m\u001b[0;34m(\u001b[0m\u001b[0;34m\"param\"\u001b[0m\u001b[0;34m,\u001b[0m \u001b[0;34m(\u001b[0m\u001b[0;34m(\u001b[0m\u001b[0;34m\"key1\"\u001b[0m\u001b[0;34m,\u001b[0m \u001b[0;36m1\u001b[0m\u001b[0;34m)\u001b[0m\u001b[0;34m)\u001b[0m\u001b[0;34m)\u001b[0m\u001b[0;34m\u001b[0m\u001b[0;34m\u001b[0m\u001b[0m\n\u001b[0m",
      "\u001b[0;31mNameError\u001b[0m: name 'Namelist' is not defined"
     ]
    }
   ],
   "source": [
    "nml = Namelist(\"param\", ((\"key1\", 1)))"
   ]
  },
  {
   "cell_type": "code",
   "execution_count": 12,
   "metadata": {},
   "outputs": [
    {
     "data": {
      "text/plain": [
       "f90nml.namelist.Namelist"
      ]
     },
     "execution_count": 12,
     "metadata": {},
     "output_type": "execute_result"
    }
   ],
   "source": [
    "type(nml_data)"
   ]
  },
  {
   "cell_type": "code",
   "execution_count": 13,
   "metadata": {},
   "outputs": [
    {
     "data": {
      "text/plain": [
       "\"Namelist([('bethelist', Namelist([('c1', 4.0), ('c2', 8.0), ('c3', 50.0), ('sgdbdiff', 1.0)]))])\""
      ]
     },
     "execution_count": 13,
     "metadata": {},
     "output_type": "execute_result"
    }
   ],
   "source": [
    "repr(nml_data)"
   ]
  },
  {
   "cell_type": "code",
   "execution_count": 26,
   "metadata": {},
   "outputs": [
    {
     "data": {
      "text/plain": [
       "27"
      ]
     },
     "execution_count": 26,
     "metadata": {},
     "output_type": "execute_result"
    }
   ],
   "source": [
    "len([type(value)  for  value in nml_data['mccldata'].values()])"
   ]
  },
  {
   "cell_type": "code",
   "execution_count": 52,
   "metadata": {},
   "outputs": [
    {
     "data": {
      "text/plain": [
       "'ebsdindexingdata'"
      ]
     },
     "execution_count": 52,
     "metadata": {},
     "output_type": "execute_result"
    }
   ],
   "source": [
    "list(nml_data.keys())[0]\n"
   ]
  },
  {
   "cell_type": "code",
   "execution_count": 54,
   "metadata": {},
   "outputs": [
    {
     "name": "stdout",
     "output_type": "stream",
     "text": [
      "indexingmode\n",
      "notify\n",
      "ipf_wd\n",
      "ipf_ht\n",
      "roi\n",
      "stepx\n",
      "stepy\n",
      "nnk\n",
      "nosm\n",
      "nism\n",
      "isangle\n",
      "maskfile\n",
      "maskpattern\n",
      "maskradius\n",
      "hipassw\n",
      "nregions\n",
      "ncubochoric\n",
      "l\n",
      "thetac\n",
      "delta\n",
      "numsx\n",
      "numsy\n",
      "xpc\n",
      "ypc\n",
      "omega\n",
      "energymin\n",
      "energymax\n",
      "beamcurrent\n",
      "dwelltime\n",
      "binning\n",
      "scalingmode\n",
      "gammavalue\n",
      "exptfile\n",
      "inputtype\n",
      "hdfstrings\n",
      "tmpfile\n",
      "keeptmpfile\n",
      "datafile\n",
      "ctffile\n",
      "angfile\n",
      "eulerfile\n",
      "dictfile\n",
      "masterfile\n",
      "refinementnmlfile\n",
      "numdictsingle\n",
      "numexptsingle\n",
      "nthreads\n",
      "platid\n",
      "devid\n",
      "multidevid\n",
      "usenumd\n"
     ]
    }
   ],
   "source": [
    "nml_name = list(nml_data.keys())[0]\n",
    "for key, value in nml_data[nml_name].items():\n",
    "    print (key)"
   ]
  },
  {
   "cell_type": "code",
   "execution_count": null,
   "metadata": {},
   "outputs": [],
   "source": []
  }
 ],
 "metadata": {
  "kernelspec": {
   "display_name": "Python 3",
   "language": "python",
   "name": "python3"
  },
  "language_info": {
   "codemirror_mode": {
    "name": "ipython",
    "version": 3
   },
   "file_extension": ".py",
   "mimetype": "text/x-python",
   "name": "python",
   "nbconvert_exporter": "python",
   "pygments_lexer": "ipython3",
   "version": "3.7.3"
  }
 },
 "nbformat": 4,
 "nbformat_minor": 2
}
